{
 "cells": [
  {
   "cell_type": "code",
   "execution_count": 1,
   "metadata": {
    "scrolled": true
   },
   "outputs": [
    {
     "ename": "ModuleNotFoundError",
     "evalue": "No module named 'tangentlib'",
     "output_type": "error",
     "traceback": [
      "\u001b[0;31m---------------------------------------------------------------------------\u001b[0m",
      "\u001b[0;31mModuleNotFoundError\u001b[0m                       Traceback (most recent call last)",
      "Input \u001b[0;32mIn [1]\u001b[0m, in \u001b[0;36m<cell line: 15>\u001b[0;34m()\u001b[0m\n\u001b[1;32m     13\u001b[0m \u001b[38;5;28;01mimport\u001b[39;00m \u001b[38;5;21;01mGeoidlib\u001b[39;00m\n\u001b[1;32m     14\u001b[0m \u001b[38;5;28;01mfrom\u001b[39;00m \u001b[38;5;21;01mscipy\u001b[39;00m\u001b[38;5;21;01m.\u001b[39;00m\u001b[38;5;21;01moptimize\u001b[39;00m \u001b[38;5;28;01mimport\u001b[39;00m minimize_scalar\n\u001b[0;32m---> 15\u001b[0m \u001b[38;5;28;01mfrom\u001b[39;00m \u001b[38;5;21;01mtangentlib\u001b[39;00m \u001b[38;5;28;01mimport\u001b[39;00m \u001b[38;5;241m*\u001b[39m\n\u001b[1;32m     17\u001b[0m get_ipython()\u001b[38;5;241m.\u001b[39mrun_line_magic(\u001b[38;5;124m'\u001b[39m\u001b[38;5;124mmatplotlib\u001b[39m\u001b[38;5;124m'\u001b[39m, \u001b[38;5;124m'\u001b[39m\u001b[38;5;124mnotebook\u001b[39m\u001b[38;5;124m'\u001b[39m)\n\u001b[1;32m     18\u001b[0m \u001b[38;5;66;03m#%matplotlib qt5\u001b[39;00m\n",
      "\u001b[0;31mModuleNotFoundError\u001b[0m: No module named 'tangentlib'"
     ]
    }
   ],
   "source": [
    "import ephem\n",
    "import datetime as DT\n",
    "import matplotlib.pylab as plt\n",
    "from numpy.linalg import norm\n",
    "import matplotlib.animation as animation\n",
    "from skyfield.positionlib import ICRF\n",
    "import numpy as  np\n",
    "import skyfield.sgp4lib as sgp4lib\n",
    "import skyfield.api as sfapi\n",
    "from skyfield.api import wgs84, Star\n",
    "from skyfield.units import Distance\n",
    "from skyfield.data import hipparcos\n",
    "import Geoidlib\n",
    "from scipy.optimize import minimize_scalar\n",
    "from tangentlib import *\n",
    "\n",
    "%matplotlib notebook\n",
    "#%matplotlib qt5\n",
    "plt.rcParams['figure.figsize'] = [8, 6]\n",
    "#plt.rcParams['font.size']=26\n"
   ]
  },
  {
   "cell_type": "code",
   "execution_count": null,
   "metadata": {},
   "outputs": [],
   "source": [
    "\n",
    "\n",
    "def loadysb(d):\n",
    "    ysb=[]\n",
    "    with open('YBS.edb','r') as fb:\n",
    "        for line in fb:\n",
    "            if line[0] !='#' and len(line) >1 : \n",
    "                st=ephem.readdb(line)\n",
    "                st.compute()\n",
    "                ysb.append(st)\n",
    "    return ysb"
   ]
  },
  {
   "cell_type": "code",
   "execution_count": null,
   "metadata": {},
   "outputs": [],
   "source": []
  },
  {
   "cell_type": "code",
   "execution_count": 2,
   "metadata": {},
   "outputs": [],
   "source": [
    "class Mats(object):\n",
    "    def __init__(self,attime=DT.datetime(2022,1,10,10,0,0)):\n",
    "        self.date=attime\n",
    "        self.ts=sfapi.load.timescale()\n",
    "        self.tle=['1 99988U 22666A   22304.76424065  .00004664  00000-0  44774-3 0 00013',\n",
    "                  '2 99988 097.6561 307.5659 0012827 298.3476 106.0390 14.93086308000015']\n",
    "        self.sfmats = sgp4lib.EarthSatellite(self.tle[0],self.tle[1])\n",
    "        self.period= 2*np.pi/self.sfmats.model.nm\n",
    "        d=self.date\n",
    "        t=self.ts.utc(d.year,d.month,d.day,d.hour,d.minute,d.second)\n",
    "        g=self.sfmats.at(t)\n",
    "        ECI_pos=g.position.m\n",
    "        ECI_vel=g.velocity.m_per_s\n",
    "        self.ECI_pos=ECI_pos\n",
    "        self.ECI_vel=ECI_vel\n",
    "        self.t = t\n",
    "        vunit=np.array(ECI_vel)/norm(ECI_vel)\n",
    "        mrunit=-np.array(ECI_pos)/norm(ECI_pos)\n",
    "        yunit=np.cross(mrunit,vunit)\n",
    "        self.rotmatrix=np.array([vunit,yunit,mrunit]).T \n",
    "        self.sublat=g.subpoint().latitude.degrees\n",
    "        self.sublon=g.subpoint().longitude.degrees\n",
    "        #print (self.sublat,self.sublon)\n",
    "        self.ascnod=-np.cross([0,0,1],yunit)\n",
    "        arg=(np.rad2deg(np.arccos(np.dot(-mrunit,self.ascnod.T))))\n",
    "        #yaw=-3.3*np.cos(np.deg2rad(arg-np.rad2deg(pitch)-0))\n",
    "        #yawing not implemented  Needs fraction of orbit\n",
    "        yaw =0\n",
    "        yawoffset=0\n",
    "        pitch=findpitch(92000,t, ECI_pos, np.deg2rad(yaw)+yawoffset, self.rotmatrix)\n",
    "        #print (np.rad2deg(pitch))\n",
    "        FOV=rotate(np.array([1,0,0]),np.deg2rad(yaw)+yawoffset,pitch,0,deg=False)\n",
    "        self.FOV=np.matmul(self.rotmatrix,FOV)\n",
    "        res = findtangent(t,ECI_pos,self.FOV)\n",
    "        s=res.x\n",
    "        #print('s = ', s)\n",
    "        newp = ECI_pos + (s) * self.FOV\n",
    "        #print (newp)\n",
    "        #    pos_s=np.matmul(itrs.rotation_at(t),newp)\n",
    "        newp=ICRF(Distance(m=newp).au,t=t,center=399)\n",
    "        self.tplat=(wgs84.subpoint(newp).latitude.degrees)\n",
    "        self.tplon=(wgs84.subpoint(newp).longitude.degrees)\n",
    "        newp = ECI_pos + (s-10000) * FOV\n",
    "        self.tp= (newp)\n",
    "        #FOV=np.matmul(rotmatrix,FOV)\n",
    "        v_dash=self.FOV\n",
    "        [self.FOV_ra,self.FOV_dec]=xyz2radec(v_dash,deg=True)\n",
    "        r_dash=np.cross(v_dash,yunit)\n",
    "        self.invrotmatrix=np.linalg.inv(np.array([v_dash,yunit,r_dash]).T) \n",
    "\n",
    "\n",
    "\n",
    "        "
   ]
  },
  {
   "cell_type": "code",
   "execution_count": 3,
   "metadata": {},
   "outputs": [
    {
     "ename": "NameError",
     "evalue": "name 'findpitch' is not defined",
     "output_type": "error",
     "traceback": [
      "\u001b[0;31m---------------------------------------------------------------------------\u001b[0m",
      "\u001b[0;31mNameError\u001b[0m                                 Traceback (most recent call last)",
      "Input \u001b[0;32mIn [3]\u001b[0m, in \u001b[0;36m<cell line: 1>\u001b[0;34m()\u001b[0m\n\u001b[0;32m----> 1\u001b[0m mats\u001b[38;5;241m=\u001b[39m\u001b[43mMats\u001b[49m\u001b[43m(\u001b[49m\u001b[43mDT\u001b[49m\u001b[38;5;241;43m.\u001b[39;49m\u001b[43mdatetime\u001b[49m\u001b[43m(\u001b[49m\u001b[38;5;241;43m2022\u001b[39;49m\u001b[43m,\u001b[49m\u001b[38;5;241;43m11\u001b[39;49m\u001b[43m,\u001b[49m\u001b[38;5;241;43m10\u001b[39;49m\u001b[43m,\u001b[49m\u001b[38;5;241;43m10\u001b[39;49m\u001b[43m,\u001b[49m\u001b[38;5;241;43m0\u001b[39;49m\u001b[43m,\u001b[49m\u001b[38;5;241;43m0\u001b[39;49m\u001b[43m)\u001b[49m\u001b[43m)\u001b[49m\n",
      "Input \u001b[0;32mIn [2]\u001b[0m, in \u001b[0;36mMats.__init__\u001b[0;34m(self, attime)\u001b[0m\n\u001b[1;32m     28\u001b[0m yaw \u001b[38;5;241m=\u001b[39m\u001b[38;5;241m0\u001b[39m\n\u001b[1;32m     29\u001b[0m yawoffset\u001b[38;5;241m=\u001b[39m\u001b[38;5;241m0\u001b[39m\n\u001b[0;32m---> 30\u001b[0m pitch\u001b[38;5;241m=\u001b[39m\u001b[43mfindpitch\u001b[49m(\u001b[38;5;241m92000\u001b[39m,t, ECI_pos, np\u001b[38;5;241m.\u001b[39mdeg2rad(yaw)\u001b[38;5;241m+\u001b[39myawoffset, \u001b[38;5;28mself\u001b[39m\u001b[38;5;241m.\u001b[39mrotmatrix)\n\u001b[1;32m     31\u001b[0m \u001b[38;5;66;03m#print (np.rad2deg(pitch))\u001b[39;00m\n\u001b[1;32m     32\u001b[0m FOV\u001b[38;5;241m=\u001b[39mrotate(np\u001b[38;5;241m.\u001b[39marray([\u001b[38;5;241m1\u001b[39m,\u001b[38;5;241m0\u001b[39m,\u001b[38;5;241m0\u001b[39m]),np\u001b[38;5;241m.\u001b[39mdeg2rad(yaw)\u001b[38;5;241m+\u001b[39myawoffset,pitch,\u001b[38;5;241m0\u001b[39m,deg\u001b[38;5;241m=\u001b[39m\u001b[38;5;28;01mFalse\u001b[39;00m)\n",
      "\u001b[0;31mNameError\u001b[0m: name 'findpitch' is not defined"
     ]
    }
   ],
   "source": [
    "mats=Mats(DT.datetime(2022,11,10,10,0,0))\n"
   ]
  },
  {
   "cell_type": "code",
   "execution_count": 4,
   "metadata": {},
   "outputs": [
    {
     "ename": "NameError",
     "evalue": "name 'mats' is not defined",
     "output_type": "error",
     "traceback": [
      "\u001b[0;31m---------------------------------------------------------------------------\u001b[0m",
      "\u001b[0;31mNameError\u001b[0m                                 Traceback (most recent call last)",
      "Input \u001b[0;32mIn [4]\u001b[0m, in \u001b[0;36m<cell line: 1>\u001b[0;34m()\u001b[0m\n\u001b[0;32m----> 1\u001b[0m \u001b[43mmats\u001b[49m\u001b[38;5;241m.\u001b[39msublat\n",
      "\u001b[0;31mNameError\u001b[0m: name 'mats' is not defined"
     ]
    }
   ],
   "source": [
    "mats.sublat"
   ]
  },
  {
   "cell_type": "code",
   "execution_count": 5,
   "metadata": {},
   "outputs": [
    {
     "ename": "NameError",
     "evalue": "name 'mats' is not defined",
     "output_type": "error",
     "traceback": [
      "\u001b[0;31m---------------------------------------------------------------------------\u001b[0m",
      "\u001b[0;31mNameError\u001b[0m                                 Traceback (most recent call last)",
      "Input \u001b[0;32mIn [5]\u001b[0m, in \u001b[0;36m<cell line: 6>\u001b[0;34m()\u001b[0m\n\u001b[1;32m      4\u001b[0m startdate\u001b[38;5;241m=\u001b[39mDT\u001b[38;5;241m.\u001b[39mdatetime(\u001b[38;5;241m2022\u001b[39m,\u001b[38;5;241m11\u001b[39m,\u001b[38;5;241m30\u001b[39m,\u001b[38;5;241m4\u001b[39m,\u001b[38;5;241m0\u001b[39m,\u001b[38;5;241m0\u001b[39m)\n\u001b[1;32m      5\u001b[0m d\u001b[38;5;241m=\u001b[39mstartdate\n\u001b[0;32m----> 6\u001b[0m t\u001b[38;5;241m=\u001b[39m\u001b[43mmats\u001b[49m\u001b[38;5;241m.\u001b[39mts\u001b[38;5;241m.\u001b[39mutc(d\u001b[38;5;241m.\u001b[39myear,d\u001b[38;5;241m.\u001b[39mmonth,d\u001b[38;5;241m.\u001b[39mday,d\u001b[38;5;241m.\u001b[39mhour,d\u001b[38;5;241m.\u001b[39mminute,d\u001b[38;5;241m.\u001b[39msecond)\n\u001b[1;32m      8\u001b[0m planets \u001b[38;5;241m=\u001b[39m sfapi\u001b[38;5;241m.\u001b[39mload(\u001b[38;5;124m'\u001b[39m\u001b[38;5;124mde421.bsp\u001b[39m\u001b[38;5;124m'\u001b[39m)\n\u001b[1;32m      9\u001b[0m moon\u001b[38;5;241m=\u001b[39mplanets[\u001b[38;5;124m'\u001b[39m\u001b[38;5;124mMoon\u001b[39m\u001b[38;5;124m'\u001b[39m]\n",
      "\u001b[0;31mNameError\u001b[0m: name 'mats' is not defined"
     ]
    }
   ],
   "source": [
    "st_vec=[]\n",
    "\n",
    "minmag=2\n",
    "startdate=DT.datetime(2022,11,30,4,0,0)\n",
    "d=startdate\n",
    "t=mats.ts.utc(d.year,d.month,d.day,d.hour,d.minute,d.second)\n",
    "\n",
    "planets = sfapi.load('de421.bsp')\n",
    "moon=planets['Moon']\n",
    "earth=planets['Earth']\n",
    "\n",
    "#Read in the stars and select only the one we might see and save ECI xyz positions\n",
    "\n",
    "with sfapi.load.open(hipparcos.URL) as f:\n",
    "    df = hipparcos.load_dataframe(f)\n",
    "df=df[df['magnitude']<=2.5]\n",
    "bright_stars = Star.from_dataframe(df)\n",
    "nstars=len(bright_stars.ra.hours)\n",
    "for st in range(nstars): \n",
    "    st_vec.append(earth.at(t).observe(bright_stars)[st].position.km)\n",
    "st_vec.append(earth.at(mats.t).observe(moon).position.km)\n",
    "\n",
    "ntimes=600    \n",
    "times=[]\n",
    "timestamps=[]\n",
    "st_x=np.zeros((len(st_vec),ntimes))    \n",
    "st_y=np.zeros((len(st_vec),ntimes)) \n",
    "st_ang=np.zeros((len(st_vec),ntimes)) \n",
    "for ntime, d in enumerate ([startdate+DT.timedelta(seconds=i*10) for i in range(ntimes)]):\n",
    "    mats=Mats(d)   \n",
    "    times.append(d)\n",
    "    timestamps.append(d.timestamp())\n",
    "    st_vec.pop(-1) #remove the moon and update\n",
    "    st_vec.append(earth.at(mats.t).observe(moon).position.km)\n",
    "    #print('RA = {}, Dec = {}'.format(mats.FOV_ra,mats.FOV_dec))\n",
    "    for nstar in range(nstars+1): \n",
    "        inst_xyz=np.matmul(mats.invrotmatrix,st_vec[nstar])\n",
    "        [xang,yang]=xyz2radec(inst_xyz,positivera=False)\n",
    "        st_x[nstar,ntime] = xang\n",
    "        st_y[nstar,ntime] = yang\n",
    "        st_ang[nstar,ntime]=np.rad2deg(np.arccos(np.dot(mats.FOV,st_vec[nstar]/norm(st_vec[nstar]))))\n",
    "\n",
    "\n",
    "\n",
    "    moonpos=earth.at(mats.t).observe(moon).radec()\n",
    "print (moonpos)\n",
    "# Treat as extra star  but should realy be in the update part since it moves fast\n",
    "#could be done there for the correct time but the vector would need to be recalculated\n",
    "moon_ra = moonpos[0].radians\n",
    "moon_dec = moonpos[1].radians\n",
    "print (\"Moon RA = {}, Dec= {}\".format(moon_ra*180/np.pi,moon_dec*180/np.pi))\n",
    "#st_vec.append(radec2xyz(moon_ra,moon_dec,deg=False))\n",
    "#transform to instrument coordinates\n",
    "\n"
   ]
  },
  {
   "cell_type": "code",
   "execution_count": 8,
   "metadata": {},
   "outputs": [],
   "source": [
    "possibles=np.array([(istar,itime) for istar in range(nstars+1) for itime in range(ntimes)  \n",
    "                    if ((st_ang[istar,itime])< 3 and st_y[istar,itime]<0.05 )])"
   ]
  },
  {
   "cell_type": "code",
   "execution_count": 9,
   "metadata": {},
   "outputs": [
    {
     "data": {
      "text/plain": [
       "magnitude              2.480000\n",
       "ra_degrees           311.551801\n",
       "dec_degrees           33.969453\n",
       "parallax_mas          45.260000\n",
       "ra_mas_per_year      356.160000\n",
       "dec_mas_per_year     330.280000\n",
       "ra_hours              20.770120\n",
       "epoch_year          1991.250000\n",
       "Name: 102488, dtype: float64"
      ]
     },
     "execution_count": 9,
     "metadata": {},
     "output_type": "execute_result"
    }
   ],
   "source": [
    "df.loc[df.index[85]]"
   ]
  },
  {
   "cell_type": "code",
   "execution_count": 10,
   "metadata": {
    "scrolled": true
   },
   "outputs": [
    {
     "name": "stdout",
     "output_type": "stream",
     "text": [
      "Available stars\n",
      "StarID     Mag       RA         Dec      X-value    Crosstime\n",
      "    39    1.67    135.276    -69.259    -0.02010  2022-11-30 04:47:25.920217\n",
      "    40    2.21    142.661    -59.784     0.03127  2022-11-30 04:44:44.111425\n",
      "    41    2.47    144.646    -55.649     0.04237  2022-11-30 04:43:35.015878\n",
      "    44    2.01    158.585     19.417     0.05951  2022-11-30 04:23:06.316992\n",
      "    45    2.34    167.363     56.165     0.01882  2022-11-30 04:13:07.397376\n",
      "    46    1.81    169.980     61.290     0.03466  2022-11-30 04:11:42.428446\n",
      "    86    2.45    -39.083     62.759    -0.01061  2022-11-30 05:33:41.150707\n",
      "    89    2.07    -15.991    -46.535    -0.04043  2022-11-30 05:04:00.763830\n",
      "    93  -12.60    -22.033    -14.969    -0.02691  2022-11-30 05:12:29.398240\n"
     ]
    }
   ],
   "source": [
    "print(\"Available stars\")\n",
    "print(\"StarID     Mag       RA         Dec      X-value    Crosstime\")\n",
    "for posstar in np.unique(possibles[:,0]):\n",
    "    possible=[possible for possible in possibles if possible[0]==posstar ]\n",
    "    timerange=slice(possible[0][1],possible[-1][1])\n",
    "    #print (timerange)\n",
    "    crosstime=DT.datetime.fromtimestamp(np.interp(0,st_y[posstar,timerange][-1::-1],timestamps[timerange][-1::-1]))\n",
    "    xvalue=np.interp(crosstime.timestamp(),timestamps[timerange],st_x[posstar,timerange])\n",
    "    if posstar==nstar : \n",
    "        mag=-12.6 #full moon \n",
    "    else:\n",
    "        mag=df.loc[df.index[posstar]].magnitude\n",
    "    print(\"{:6d} {:7.2f} {:10.3f} {:10.3f}  {:10.5f}  {}\".format (posstar, mag,\n",
    "                                                    Mats(crosstime).FOV_ra,Mats(crosstime).FOV_dec,xvalue, crosstime))"
   ]
  },
  {
   "cell_type": "code",
   "execution_count": null,
   "metadata": {},
   "outputs": [],
   "source": [
    "nstar"
   ]
  },
  {
   "cell_type": "code",
   "execution_count": null,
   "metadata": {},
   "outputs": [],
   "source": [
    "mats=Mats(crosstime + DT.timedelta(seconds=60))\n",
    "res=findtangent(mats.t,mats.ECI_pos,st_vec[posstar]/norm(st_vec[posstar]))\n",
    "funheight(res.x,mats.t,mats.ECI_pos,st_vec[posstar]/norm(st_vec[posstar]))"
   ]
  },
  {
   "cell_type": "code",
   "execution_count": null,
   "metadata": {},
   "outputs": [],
   "source": [
    "plt.figure()\n",
    "plt.plot(times[timerange],st_y[posstar,timerange],times[timerange],st_x[posstar,timerange],times[timerange],st_ang[posstar,timerange]/100)"
   ]
  },
  {
   "cell_type": "code",
   "execution_count": null,
   "metadata": {
    "scrolled": true
   },
   "outputs": [],
   "source": [
    "(DT.datetime.fromtimestamp(np.interp(0,st_y[posstar,timerange][-1::-1],timestamps[timerange][-1::-1])))"
   ]
  },
  {
   "cell_type": "code",
   "execution_count": null,
   "metadata": {},
   "outputs": [],
   "source": [
    "possibles"
   ]
  },
  {
   "cell_type": "code",
   "execution_count": null,
   "metadata": {},
   "outputs": [],
   "source": [
    "np.array(times).timestamp()"
   ]
  },
  {
   "cell_type": "code",
   "execution_count": 11,
   "metadata": {},
   "outputs": [],
   "source": [
    "from scipy.spatial.transform import Rotation as R"
   ]
  },
  {
   "cell_type": "code",
   "execution_count": 24,
   "metadata": {},
   "outputs": [
    {
     "name": "stderr",
     "output_type": "stream",
     "text": [
      "/var/folders/z9/z5mq6p390ls748hn4fyfy9pw0000gn/T/ipykernel_36217/246850017.py:1: UserWarning: Optimal rotation is not uniquely or poorly defined for the given sets of vectors.\n",
      "  newrot=R.align_vectors(np.array([1,1,1],ndmin=2),np.array([0,1,1],ndmin=2))\n"
     ]
    }
   ],
   "source": [
    "newrot=R.align_vectors(np.array([1,1,1],ndmin=2),np.array([0,1,1],ndmin=2))"
   ]
  },
  {
   "cell_type": "code",
   "execution_count": 54,
   "metadata": {},
   "outputs": [
    {
     "data": {
      "text/plain": [
       "array([-5.55111512e-17,  1.22474487e+00,  1.22474487e+00])"
      ]
     },
     "execution_count": 54,
     "metadata": {},
     "output_type": "execute_result"
    }
   ],
   "source": [
    "newrot[0].inv().apply([1,1,1])"
   ]
  },
  {
   "cell_type": "code",
   "execution_count": 40,
   "metadata": {},
   "outputs": [
    {
     "data": {
      "text/plain": [
       "(1, 3)"
      ]
     },
     "execution_count": 40,
     "metadata": {},
     "output_type": "execute_result"
    }
   ],
   "source": [
    "np.array([1,1,1],ndmin=2).shape"
   ]
  },
  {
   "cell_type": "code",
   "execution_count": 55,
   "metadata": {},
   "outputs": [
    {
     "data": {
      "text/plain": [
       "array([-3.27642678e-17,  2.14186495e-01, -2.14186495e-01,  9.53020614e-01])"
      ]
     },
     "execution_count": 55,
     "metadata": {},
     "output_type": "execute_result"
    }
   ],
   "source": [
    "newrot[0].as_quat"
   ]
  },
  {
   "cell_type": "code",
   "execution_count": 41,
   "metadata": {},
   "outputs": [],
   "source": [
    "def rotation_matrix_from_vectors(vec1, vec2):\n",
    "    \"\"\" Find the rotation matrix that aligns vec1 to vec2\n",
    "    :param vec1: A 3d \"source\" vector\n",
    "    :param vec2: A 3d \"destination\" vector\n",
    "    :return mat: A transform matrix (3x3) which when applied to vec1, aligns it with vec2.\n",
    "    \"\"\"\n",
    "    a, b = (vec1 / np.linalg.norm(vec1)).reshape(3), (vec2 / np.linalg.norm(vec2)).reshape(3)\n",
    "    v = np.cross(a, b)\n",
    "    c = np.dot(a, b)\n",
    "    s = np.linalg.norm(v)\n",
    "    kmat = np.array([[0, -v[2], v[1]], [v[2], 0, -v[0]], [-v[1], v[0], 0]])\n",
    "    rotation_matrix = np.eye(3) + kmat + kmat.dot(kmat) * ((1 - c) / (s ** 2))\n",
    "    return rotation_matrix"
   ]
  },
  {
   "cell_type": "code",
   "execution_count": 44,
   "metadata": {},
   "outputs": [],
   "source": [
    "rott=rotation_matrix_from_vectors(np.array([1,1,1]),np.array([0,1,1]))"
   ]
  },
  {
   "cell_type": "code",
   "execution_count": 50,
   "metadata": {},
   "outputs": [
    {
     "data": {
      "text/plain": [
       "array([0.        , 1.22474487, 1.22474487])"
      ]
     },
     "execution_count": 50,
     "metadata": {},
     "output_type": "execute_result"
    }
   ],
   "source": [
    "np.matmul(rott,[1,1,1])"
   ]
  },
  {
   "cell_type": "code",
   "execution_count": null,
   "metadata": {},
   "outputs": [],
   "source": []
  }
 ],
 "metadata": {
  "kernelspec": {
   "display_name": "Python 3 (ipykernel)",
   "language": "python",
   "name": "python3"
  },
  "language_info": {
   "codemirror_mode": {
    "name": "ipython",
    "version": 3
   },
   "file_extension": ".py",
   "mimetype": "text/x-python",
   "name": "python",
   "nbconvert_exporter": "python",
   "pygments_lexer": "ipython3",
   "version": "3.8.13"
  }
 },
 "nbformat": 4,
 "nbformat_minor": 2
}
