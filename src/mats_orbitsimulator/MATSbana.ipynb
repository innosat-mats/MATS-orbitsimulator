{
 "cells": [
  {
   "cell_type": "code",
   "execution_count": 1,
   "id": "36ec0126",
   "metadata": {},
   "outputs": [],
   "source": [
    "import datetime as DT\n",
    "import matplotlib.pylab as plt\n",
    "from numpy.linalg import norm\n",
    "import numpy as  np\n",
    "import skyfield.api as sfapi\n",
    "from skyfield.api import wgs84\n",
    "import skyfield.sgp4lib as sgp4lib\n",
    "import Geoidlib\n",
    "from scipy.optimize import minimize_scalar\n",
    "from skyfield.positionlib import ICRF\n",
    "from skyfield.units import Distance\n",
    "from skyfield.framelib import itrs\n",
    "%matplotlib notebook\n",
    "#%matplotlib qt4\n",
    "plt.rcParams['figure.figsize'] = [8, 6]\n",
    "#plt.rcParams['font.size']=26"
   ]
  },
  {
   "cell_type": "code",
   "execution_count": 2,
   "id": "c738c123",
   "metadata": {},
   "outputs": [],
   "source": [
    "def rotate (unitvec, yaw, pitch, roll, deg=False):\n",
    "    def Rx (v,th):\n",
    "        s=np.sin(th)\n",
    "        c=np.cos(th)\n",
    "        return np.matmul([[1,0,0],[0,c,-s],[0,s,c]],v)\n",
    "    def Ry (v,th):\n",
    "        s=np.sin(th)\n",
    "        c=np.cos(th)\n",
    "        return np.matmul([[c,0,s],[0,1,0],[-s,0,c]],v)\n",
    "    def Rz (v,th):\n",
    "        s=np.sin(th)\n",
    "        c=np.cos(th)\n",
    "        return np.matmul([[c,-s,0],[s,c,0],[0,0,1]],v)\n",
    "    if deg :\n",
    "        roll*=(np.pi/180)\n",
    "        pitch*=(np.pi/180)\n",
    "        yaw*=(np.pi/180)\n",
    "    return Rz(Ry(Rx(unitvec,roll),pitch),yaw)\n",
    "\n",
    "def xyz2radec(vector, deg=False, positivera=False):\n",
    "    ra = np.arctan2(vector[1],vector[0])\n",
    "    if positivera : \n",
    "        if ra <0 : ra+=2*np.pi\n",
    "    dec = np.arcsin(vector[2]/np.sqrt(np.dot(vector,vector)))\n",
    "    if deg :\n",
    "        ra*=180./np.pi\n",
    "        dec*=180./np.pi\n",
    "    return [ra,dec]\n",
    "\n",
    "def radec2xyz(ra,dec, deg=True):\n",
    "    if deg:\n",
    "        ra*=np.pi/180.\n",
    "        dec*=np.pi/180.\n",
    "    z=np.sin(dec)\n",
    "    x=np.cos(ra)*np.cos(dec)\n",
    "    y=np.sin(ra)*np.cos(dec)\n",
    "    return [x,y,z]\n",
    "\n",
    "        \n",
    "def get_tle_dateDB (d):\n",
    "    db=sqlite.connect('/Users/donal/mydocs/ODIN/Tle/odintletext.db')\n",
    "    cur=db.cursor()\n",
    "    sperday=24.*60*60\n",
    "    doy=d-DT.datetime(d.year,1,1)\n",
    "    datekey =((d.year-int(d.year/100)*100)*1000 + doy.days+doy.seconds/sperday)*100\n",
    "    query=\"select tle1,tle2 from odintle where datekey between {} and {}\"\n",
    "    r=cur.execute(query.format(datekey,datekey+400)) #four day margin\n",
    "    tle=r.fetchone()\n",
    "    cur.close()\n",
    "    db.close()\n",
    "    return tle\n",
    "\n",
    "def loadysb(d):\n",
    "    ysb=[]\n",
    "    with open('YBS.edb','r') as fb:\n",
    "        for line in fb:\n",
    "            if line[0] !='#' and len(line) >1 : \n",
    "                st=ephem.readdb(line)\n",
    "                st.compute()\n",
    "                ysb.append(st)\n",
    "    return ysb"
   ]
  },
  {
   "cell_type": "code",
   "execution_count": 3,
   "id": "b61a202c",
   "metadata": {},
   "outputs": [],
   "source": [
    "startdate=DT.datetime(2022,1,10,10)\n",
    "date=startdate\n",
    "timestep=DT.timedelta(days=1*0.5)\n",
    "ts=sfapi.load.timescale()\n",
    "tle=['1 99991U 21321B   22010.41666667  .00000000  00000-0  49154-3 0    13',\n",
    "          '2 99991  97.3120  64.9140 0002205 122.9132 235.5287 15.01280112    07']\n",
    "sfodin = sgp4lib.EarthSatellite(tle[0],tle[1])"
   ]
  },
  {
   "cell_type": "code",
   "execution_count": 4,
   "id": "db90c61f",
   "metadata": {},
   "outputs": [],
   "source": [
    "def funpitch(pitch,t,th,pos,yaw,rotmatrix):\n",
    "    #print(pitch*180/np.pi)\n",
    "    FOV=rotate(np.array([1,0,0]),yaw,pitch,0,deg=False)\n",
    "    FOV=np.matmul(rotmatrix,FOV)\n",
    "    tp=findtangent(t,pos,FOV)\n",
    "    return((tp.fun-th)**2)\n",
    "\n",
    "def funheight (s,t,pos,FOV):\n",
    "    newp = pos + s * FOV\n",
    "    newp=ICRF(Distance(m=newp).au,t=t,center=399)\n",
    "    return wgs84.subpoint(newp).elevation.m\n",
    "\n",
    "\n",
    "def findtangent(t,pos,FOV):\n",
    "    res=minimize_scalar(funheight,args=(t,pos,FOV),bracket=(1e5,3e5))\n",
    "    return res\n",
    "\n",
    "def findpitch (th,t,pos,yaw,rotmatrix):\n",
    "    res=minimize_scalar(funpitch,args=(t,th,pos,yaw,rotmatrix),method=\"Bounded\",bounds=(np.deg2rad(-30),np.deg2rad(-10)))\n",
    "    return res.x"
   ]
  },
  {
   "cell_type": "code",
   "execution_count": 7,
   "id": "ca750fc8",
   "metadata": {},
   "outputs": [],
   "source": [
    "d=date#+offsetfromdate*timestep\n",
    "timestep=DT.timedelta(seconds=60)\n",
    "yaw=0\n",
    "yawoffset=0\n",
    "#plt.figure()\n",
    "\n",
    "dateslist=[]\n",
    "sublats=[]\n",
    "sublons=[]\n",
    "platslat=[]\n",
    "platslon=[]\n",
    "LTsat=[]\n",
    "LTtp=[]\n",
    "for tt in range(1500):\n",
    "    d+=timestep\n",
    "    dateslist.append(d.isoformat())\n",
    "    t=ts.utc(d.year,d.month,d.day,d.hour,d.minute,d.second)\n",
    "    g=sfodin.at(t)\n",
    "    period= 2*np.pi/sfodin.model.nm\n",
    "    ECI_pos=g.position.m\n",
    "    ECI_vel=g.velocity.m_per_s\n",
    "    vunit=np.array(ECI_vel)/norm(ECI_vel)\n",
    "    mrunit=-np.array(ECI_pos)/norm(ECI_pos)\n",
    "    yunit=np.cross(mrunit,vunit)\n",
    "    rotmatrix=np.array([vunit,yunit,mrunit]).T \n",
    "    sublat_c=g.subpoint().latitude.degrees\n",
    "    sublon_c=g.subpoint().longitude.degrees\n",
    "    sublats.append(sublat_c)\n",
    "    sublons.append(sublon_c)\n",
    "    LTsat.append((d+DT.timedelta(seconds=sublon_c/15*60*60)).strftime('%H:%M:%S'))\n",
    "    pitch=findpitch(92000,t, ECI_pos, np.deg2rad(yaw)+yawoffset, rotmatrix)\n",
    "\n",
    "\n",
    "    yaw=-3.3*np.cos(np.deg2rad(tt*timestep.seconds/period/60*360-np.rad2deg(pitch)-0))\n",
    "    #yaw =0\n",
    "    #print(np.rad2deg(pitchdown))\n",
    "    pitch=findpitch(92000,t, ECI_pos, np.deg2rad(yaw)+yawoffset, rotmatrix)\n",
    "    FOV=rotate(np.array([1,0,0]),np.deg2rad(yaw)+yawoffset,pitch,0,deg=False)\n",
    "    FOV=np.matmul(rotmatrix,FOV)\n",
    "    res = findtangent(t,ECI_pos,FOV)\n",
    "    s=res.x\n",
    "    newp = ECI_pos + s * FOV\n",
    "#    pos_s=np.matmul(itrs.rotation_at(t),newp)\n",
    "    newp=ICRF(Distance(m=newp).au,t=t,center=399)\n",
    "    platslat.append(wgs84.subpoint(newp).latitude.degrees)\n",
    "    platslon.append(wgs84.subpoint(newp).longitude.degrees)\n",
    "    LTtp.append((d+DT.timedelta(seconds=platslon[-1]/15*60*60)).strftime('%H:%M:%S'))"
   ]
  },
  {
   "cell_type": "code",
   "execution_count": 8,
   "id": "39c1a301",
   "metadata": {},
   "outputs": [],
   "source": [
    "with (open('testfile.txt','w')) as f:\n",
    "    for i in range(len(dateslist)):\n",
    "        #print (i) \n",
    "        f.write ('{:s} {:f} {:f} {:s} {:f} {:f} {:s}\\n'.format(dateslist[i],sublats[i],sublons[i],LTsat[i],platslat[i],platslon[i],LTtp[i]))\n",
    "f.close()"
   ]
  },
  {
   "cell_type": "code",
   "execution_count": 14,
   "id": "e0fe2fed",
   "metadata": {},
   "outputs": [
    {
     "data": {
      "text/plain": [
       "580548.5404630052"
      ]
     },
     "execution_count": 14,
     "metadata": {},
     "output_type": "execute_result"
    }
   ],
   "source": [
    "wgs84.height_of(g).m"
   ]
  },
  {
   "cell_type": "code",
   "execution_count": 20,
   "id": "7643c394",
   "metadata": {},
   "outputs": [],
   "source": [
    "sublat,sublon=wgs84.latlon_of(g)\n"
   ]
  },
  {
   "cell_type": "code",
   "execution_count": 22,
   "id": "1c901b56",
   "metadata": {},
   "outputs": [
    {
     "data": {
      "text/plain": [
       "-44.55293200149013"
      ]
     },
     "execution_count": 22,
     "metadata": {},
     "output_type": "execute_result"
    }
   ],
   "source": [
    "sublat.degrees"
   ]
  },
  {
   "cell_type": "code",
   "execution_count": 27,
   "id": "eb07d795",
   "metadata": {},
   "outputs": [],
   "source": [
    "ra,dec,dist=newp.radec()"
   ]
  },
  {
   "cell_type": "code",
   "execution_count": 29,
   "id": "2fe7b59c",
   "metadata": {},
   "outputs": [
    {
     "ename": "WrongUnitError",
     "evalue": "this angle is usually expressed in hours, not degrees; if you want to use degrees anyway, then please use the attribute _degrees",
     "output_type": "error",
     "traceback": [
      "\u001b[0;31m---------------------------------------------------------------------------\u001b[0m",
      "\u001b[0;31mWrongUnitError\u001b[0m                            Traceback (most recent call last)",
      "\u001b[0;32m/var/folders/z9/z5mq6p390ls748hn4fyfy9pw0000gn/T/ipykernel_13688/1147188131.py\u001b[0m in \u001b[0;36m<cell line: 1>\u001b[0;34m()\u001b[0m\n\u001b[0;32m----> 1\u001b[0;31m \u001b[0mra\u001b[0m\u001b[0;34m.\u001b[0m\u001b[0mdegrees\u001b[0m\u001b[0;34m\u001b[0m\u001b[0;34m\u001b[0m\u001b[0m\n\u001b[0m",
      "\u001b[0;32m~/opt/anaconda3/lib/python3.8/site-packages/skyfield/descriptorlib.py\u001b[0m in \u001b[0;36m__get__\u001b[0;34m(self, instance, objtype)\u001b[0m\n\u001b[1;32m     10\u001b[0m         \u001b[0;32mif\u001b[0m \u001b[0minstance\u001b[0m \u001b[0;32mis\u001b[0m \u001b[0;32mNone\u001b[0m\u001b[0;34m:\u001b[0m\u001b[0;34m\u001b[0m\u001b[0;34m\u001b[0m\u001b[0m\n\u001b[1;32m     11\u001b[0m             \u001b[0;32mreturn\u001b[0m \u001b[0mself\u001b[0m\u001b[0;34m\u001b[0m\u001b[0;34m\u001b[0m\u001b[0m\n\u001b[0;32m---> 12\u001b[0;31m         \u001b[0mvalue\u001b[0m \u001b[0;34m=\u001b[0m \u001b[0mself\u001b[0m\u001b[0;34m.\u001b[0m\u001b[0mmethod\u001b[0m\u001b[0;34m(\u001b[0m\u001b[0minstance\u001b[0m\u001b[0;34m)\u001b[0m\u001b[0;34m\u001b[0m\u001b[0;34m\u001b[0m\u001b[0m\n\u001b[0m\u001b[1;32m     13\u001b[0m         \u001b[0minstance\u001b[0m\u001b[0;34m.\u001b[0m\u001b[0m__dict__\u001b[0m\u001b[0;34m[\u001b[0m\u001b[0mself\u001b[0m\u001b[0;34m.\u001b[0m\u001b[0m__name__\u001b[0m\u001b[0;34m]\u001b[0m \u001b[0;34m=\u001b[0m \u001b[0mvalue\u001b[0m\u001b[0;34m\u001b[0m\u001b[0;34m\u001b[0m\u001b[0m\n\u001b[1;32m     14\u001b[0m         \u001b[0;32mreturn\u001b[0m \u001b[0mvalue\u001b[0m\u001b[0;34m\u001b[0m\u001b[0;34m\u001b[0m\u001b[0m\n",
      "\u001b[0;32m~/opt/anaconda3/lib/python3.8/site-packages/skyfield/units.py\u001b[0m in \u001b[0;36mdegrees\u001b[0;34m(self)\u001b[0m\n\u001b[1;32m    299\u001b[0m         \u001b[0;34m\"\"\"Degrees (360° in a circle).\"\"\"\u001b[0m\u001b[0;34m\u001b[0m\u001b[0;34m\u001b[0m\u001b[0m\n\u001b[1;32m    300\u001b[0m         \u001b[0;32mif\u001b[0m \u001b[0mself\u001b[0m\u001b[0;34m.\u001b[0m\u001b[0mpreference\u001b[0m \u001b[0;34m!=\u001b[0m \u001b[0;34m'degrees'\u001b[0m\u001b[0;34m:\u001b[0m\u001b[0;34m\u001b[0m\u001b[0;34m\u001b[0m\u001b[0m\n\u001b[0;32m--> 301\u001b[0;31m             \u001b[0;32mraise\u001b[0m \u001b[0mWrongUnitError\u001b[0m\u001b[0;34m(\u001b[0m\u001b[0;34m'degrees'\u001b[0m\u001b[0;34m)\u001b[0m\u001b[0;34m\u001b[0m\u001b[0;34m\u001b[0m\u001b[0m\n\u001b[0m\u001b[1;32m    302\u001b[0m         \u001b[0;32mreturn\u001b[0m \u001b[0mself\u001b[0m\u001b[0;34m.\u001b[0m\u001b[0m_degrees\u001b[0m\u001b[0;34m\u001b[0m\u001b[0;34m\u001b[0m\u001b[0m\n\u001b[1;32m    303\u001b[0m \u001b[0;34m\u001b[0m\u001b[0m\n",
      "\u001b[0;31mWrongUnitError\u001b[0m: this angle is usually expressed in hours, not degrees; if you want to use degrees anyway, then please use the attribute _degrees"
     ]
    }
   ],
   "source": [
    "ra.degrees"
   ]
  },
  {
   "cell_type": "code",
   "execution_count": null,
   "id": "4c6a9ffb",
   "metadata": {},
   "outputs": [],
   "source": []
  }
 ],
 "metadata": {
  "kernelspec": {
   "display_name": "Python 3 (ipykernel)",
   "language": "python",
   "name": "python3"
  },
  "language_info": {
   "codemirror_mode": {
    "name": "ipython",
    "version": 3
   },
   "file_extension": ".py",
   "mimetype": "text/x-python",
   "name": "python",
   "nbconvert_exporter": "python",
   "pygments_lexer": "ipython3",
   "version": "3.8.13"
  }
 },
 "nbformat": 4,
 "nbformat_minor": 5
}
