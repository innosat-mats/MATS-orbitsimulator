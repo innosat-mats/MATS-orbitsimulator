{
 "cells": [
  {
   "cell_type": "code",
   "execution_count": 1,
   "id": "36ec0126",
   "metadata": {},
   "outputs": [],
   "source": [
    "import datetime as DT\n",
    "import matplotlib.pylab as plt\n",
    "from numpy.linalg import norm\n",
    "import numpy as  np\n",
    "import skyfield.api as sfapi\n",
    "from skyfield.api import wgs84,utc\n",
    "import skyfield.sgp4lib as sgp4lib\n",
    "import Geoidlib\n",
    "from scipy.optimize import minimize_scalar\n",
    "from skyfield.positionlib import ICRF\n",
    "from skyfield.units import Distance\n",
    "from skyfield.framelib import itrs\n",
    "#%matplotlib widget\n",
    "#%matplotlib qt4\n",
    "#plt.rcParams['font.size']=26"
   ]
  },
  {
   "cell_type": "code",
   "execution_count": 2,
   "id": "c738c123",
   "metadata": {},
   "outputs": [],
   "source": [
    "def rotate (unitvec, yaw, pitch, roll, deg=False):\n",
    "    def Rx (v,th):\n",
    "        s=np.sin(th)\n",
    "        c=np.cos(th)\n",
    "        return np.matmul([[1,0,0],[0,c,-s],[0,s,c]],v)\n",
    "    def Ry (v,th):\n",
    "        s=np.sin(th)\n",
    "        c=np.cos(th)\n",
    "        return np.matmul([[c,0,s],[0,1,0],[-s,0,c]],v)\n",
    "    def Rz (v,th):\n",
    "        s=np.sin(th)\n",
    "        c=np.cos(th)\n",
    "        return np.matmul([[c,-s,0],[s,c,0],[0,0,1]],v)\n",
    "    if deg :\n",
    "        roll*=(np.pi/180)\n",
    "        pitch*=(np.pi/180)\n",
    "        yaw*=(np.pi/180)\n",
    "    return Rz(Ry(Rx(unitvec,roll),pitch),yaw)\n",
    "\n",
    "def xyz2radec(vector, deg=False, positivera=False):\n",
    "    ra = np.arctan2(vector[1],vector[0])\n",
    "    if positivera : \n",
    "        if ra <0 : ra+=2*np.pi\n",
    "    dec = np.arcsin(vector[2]/np.sqrt(np.dot(vector,vector)))\n",
    "    if deg :\n",
    "        ra*=180./np.pi\n",
    "        dec*=180./np.pi\n",
    "    return [ra,dec]\n",
    "\n",
    "def radec2xyz(ra,dec, deg=True):\n",
    "    if deg:\n",
    "        ra*=np.pi/180.\n",
    "        dec*=np.pi/180.\n",
    "    z=np.sin(dec)\n",
    "    x=np.cos(ra)*np.cos(dec)\n",
    "    y=np.sin(ra)*np.cos(dec)\n",
    "    return [x,y,z]\n",
    "\n",
    "        \n",
    "def get_tle_dateDB (d):\n",
    "    db=sqlite.connect('/Users/donal/mydocs/ODIN/Tle/odintletext.db')\n",
    "    cur=db.cursor()\n",
    "    sperday=24.*60*60\n",
    "    doy=d-DT.datetime(d.year,1,1)\n",
    "    datekey =((d.year-int(d.year/100)*100)*1000 + doy.days+doy.seconds/sperday)*100\n",
    "    query=\"select tle1,tle2 from odintle where datekey between {} and {}\"\n",
    "    r=cur.execute(query.format(datekey,datekey+400)) #four day margin\n",
    "    tle=r.fetchone()\n",
    "    cur.close()\n",
    "    db.close()\n",
    "    return tle\n",
    "\n",
    "def loadysb(d):\n",
    "    ysb=[]\n",
    "    with open('YBS.edb','r') as fb:\n",
    "        for line in fb:\n",
    "            if line[0] !='#' and len(line) >1 : \n",
    "                st=ephem.readdb(line)\n",
    "                st.compute()\n",
    "                ysb.append(st)\n",
    "    return ysb"
   ]
  },
  {
   "cell_type": "code",
   "execution_count": 3,
   "id": "b61a202c",
   "metadata": {},
   "outputs": [],
   "source": [
    "\n",
    "ts=sfapi.load.timescale()\n",
    "tle=['1 99988U 22123A   22327.21800926  .00000000  00000-0  22763-3 0   159',\n",
    "    '2 99988  97.6525 329.4315 0012466 240.1585 268.5406 14.92722274002766']\n",
    "sfodin = sgp4lib.EarthSatellite(tle[0],tle[1])"
   ]
  },
  {
   "cell_type": "code",
   "execution_count": 4,
   "id": "db90c61f",
   "metadata": {},
   "outputs": [],
   "source": [
    "def funpitch(pitch,t,th,pos,yaw,rotmatrix):\n",
    "    #print(pitch*180/np.pi)\n",
    "    FOV=rotate(np.array([1,0,0]),yaw,pitch,0,deg=False)\n",
    "    FOV=np.matmul(rotmatrix,FOV)\n",
    "    tp=findtangent(t,pos,FOV)\n",
    "    return((tp.fun-th)**2)\n",
    "\n",
    "def funheight (s,t,pos,FOV):\n",
    "    newp = pos + s * FOV\n",
    "    newp=ICRF(Distance(m=newp).au,t=t,center=399)\n",
    "    return wgs84.subpoint(newp).elevation.m\n",
    "\n",
    "\n",
    "def findtangent(t,pos,FOV):\n",
    "    res=minimize_scalar(funheight,args=(t,pos,FOV),bracket=(1e5,3e5))\n",
    "    return res\n",
    "\n",
    "def findpitch (th,t,pos,yaw,rotmatrix):\n",
    "    res=minimize_scalar(funpitch,args=(t,th,pos,yaw,rotmatrix),method=\"Bounded\",bounds=(np.deg2rad(-30),np.deg2rad(-10)))\n",
    "    return res.x"
   ]
  },
  {
   "cell_type": "code",
   "execution_count": 5,
   "id": "55a75254",
   "metadata": {},
   "outputs": [],
   "source": [
    "planets=sfapi.load('de421.bsp')\n",
    "earth,sun= planets['earth'], planets['sun']"
   ]
  },
  {
   "cell_type": "code",
   "execution_count": 6,
   "id": "ca750fc8",
   "metadata": {},
   "outputs": [],
   "source": [
    "#startdate=DT.datetime(2022,11,9,7,53,45)\n",
    "#startdate=DT.datetime(2022,11,9,9,28,40)\n",
    "#startdate=DT.datetime(2022,11,9,11,2,49)\n",
    "#startdate=DT.datetime(2022,11,9,12,36,35)\n",
    "                      #: i denna (efterföljande) banan kommer vi kolla på nominal pointing (i.e. tangentlije på satellitbanan)\n",
    "#startdate=DT.datetime(2022,11,9,14,10,51)\n",
    "#startdate=DT.datetime(2022,11,9,15,46,22)\n",
    "#startdate=DT.datetime(2022,11,9,17,23,42)\n",
    "\n",
    "#263     2022-11-22 08:00:50        2022-11-22 08:12:20                  \n",
    "#264     2022-11-22 09:35:40        2022-11-22 09:46:10                  \n",
    "#startdate=DT.datetime(2022,11,22,11,9,50) #        2022-11-22 11:20:20                  \n",
    "#266     2022-11-22 12:43:30        2022-11-22 12:55:20                  \n",
    "#267     2022-11-22 14:17:50        2022-11-22 14:30:40                  \n",
    "#startdate=DT.datetime(2022,11,22,15,53,30)#        2022-11-22 16:06:20                  \n",
    "#275     2022-11-23 03:21:50        2022-11-23 03:33:20                  \n",
    "startdate = DT.datetime(2022,11,23,16,0,0)#        2022-11-23 08:20:00                  \n",
    "#279     2022-11-23 09:43:20        2022-11-23 09:53:50                  \n",
    "#280     2022-11-23 11:17:30        2022-11-23 11:28:10                  \n",
    "#281     2022-11-23 12:51:10        2022-11-23 13:03:00                  \n",
    "#282     2022-11-23 14:25:40        2022-11-23 14:38:30                  \n",
    "#83     2022-11-23 16:01:30        2022-11-23 16:14:10]\n",
    "date=startdate\n",
    "#timestep=DT.timedelta(days=1*0.5)\n",
    "d=date#+offsetfromdate*timestep\n",
    "timestep=DT.timedelta(seconds=60*1)\n",
    "yaw=0\n",
    "yawoffset=0\n",
    "#plt.figure()\n",
    "\n",
    "dateslist=[]\n",
    "timeslist=[]\n",
    "sublats=[]\n",
    "sublons=[]\n",
    "platslat=[]\n",
    "platslon=[]\n",
    "LTsat=[]\n",
    "LTtp=[]\n",
    "szas=[]\n",
    "ssas=[]\n",
    "szan=[]\n",
    "for tt in range(4*60):\n",
    "    d+=timestep\n",
    "    dateslist.append(d)\n",
    "    timeslist.append(d-date)\n",
    "    t=ts.utc(d.year,d.month,d.day,d.hour,d.minute,d.second)\n",
    "    g=sfodin.at(t)\n",
    "    period= 2*np.pi/sfodin.model.nm\n",
    "    ECI_pos=g.position.m\n",
    "    ECI_vel=g.velocity.m_per_s\n",
    "    vunit=np.array(ECI_vel)/norm(ECI_vel)\n",
    "    mrunit=-np.array(ECI_pos)/norm(ECI_pos)\n",
    "    yunit=np.cross(mrunit,vunit)\n",
    "    rotmatrix=np.array([vunit,yunit,mrunit]).T \n",
    "    sublat_c=g.subpoint().latitude.degrees\n",
    "    sublon_c=g.subpoint().longitude.degrees\n",
    "    sublats.append(sublat_c)\n",
    "    sublons.append(sublon_c)\n",
    "    LTsat.append((d+DT.timedelta(seconds=sublon_c/15*60*60)).strftime('%H:%M:%S'))\n",
    "    pitch=findpitch(92000,t, ECI_pos, np.deg2rad(yaw)+yawoffset, rotmatrix)\n",
    "\n",
    "\n",
    "    yaw=-3.3*np.cos(np.deg2rad(tt*timestep.seconds/period/60*360-np.rad2deg(pitch)-0))\n",
    "    yaw =0\n",
    "    #print(np.rad2deg(pitchdown))\n",
    "    pitch=findpitch(92000,t, ECI_pos, np.deg2rad(yaw)+yawoffset, rotmatrix)\n",
    "    FOV=rotate(np.array([1,0,0]),np.deg2rad(yaw)+yawoffset,pitch,0,deg=False)\n",
    "    FOV=np.matmul(rotmatrix,FOV)\n",
    "    res = findtangent(t,ECI_pos,FOV)\n",
    "    s=res.x\n",
    "    newp = ECI_pos + s * FOV\n",
    "#    pos_s=np.matmul(itrs.rotation_at(t),newp)\n",
    "    newp=ICRF(Distance(m=newp).au,t=t,center=399)\n",
    "    platslat.append(wgs84.subpoint(newp).latitude.degrees)\n",
    "    platslon.append(wgs84.subpoint(newp).longitude.degrees)\n",
    "    LTtp.append((d+DT.timedelta(seconds=platslon[-1]/15*60*60)).strftime('%H:%M:%S'))\n",
    "    sundir=(earth+wgs84.subpoint(newp)).at(t).observe(sun).apparent()\n",
    "    obs=sundir.altaz()\n",
    "    szas.append(90-obs[0].degrees)\n",
    "    ssas.append(np.rad2deg(np.arccos(np.dot(FOV,sundir.position.m/norm(sundir.position.m)))))\n",
    "\n",
    "    sundir=(earth+wgs84.subpoint(g)).at(t).observe(sun).apparent()\n",
    "    obs=sundir.altaz()\n",
    "    szan.append(90-obs[0].degrees)"
   ]
  },
  {
   "cell_type": "markdown",
   "id": "98470bb0",
   "metadata": {},
   "source": [
    "with (open('testfile.txt','w')) as f:\n",
    "    for i in range(len(dateslist)):\n",
    "        #print (i) \n",
    "        f.write ('{:s} {:f} {:f} {:s} {:f} {:f} {:s} {:f} {:f}\\n'.format(dateslist[i],sublats[i],sublons[i],LTsat[i],platslat[i],platslon[i],LTtp[i],szas[i],ssas[i]))\n",
    "f.close()"
   ]
  },
  {
   "cell_type": "code",
   "execution_count": 7,
   "id": "e0fe2fed",
   "metadata": {
    "scrolled": false
   },
   "outputs": [
    {
     "data": {
      "text/plain": [
       "(19319.67986111111, 19319.70902777778)"
      ]
     },
     "execution_count": 7,
     "metadata": {},
     "output_type": "execute_result"
    },
    {
     "data": {
      "image/png": "[encoded data removed]",
      "text/plain": [
       "<Figure size 432x288 with 1 Axes>"
      ]
     },
     "metadata": {
      "needs_background": "light"
     },
     "output_type": "display_data"
    }
   ],
   "source": [
    "\n",
    "# fig,axs=plt.subplots(1,2,sharex=False,sharey=True)\n",
    "# fig.suptitle(\"Passage starts {}\".format(startdate.isoformat()))\n",
    "# ax=axs[0]\n",
    "# ax.plot(sublons,sublats,platslon,platslat,'+')\n",
    "# ax.plot(sublons[0],sublats[0],'ro',platslon[0],platslat[0],'ro')\n",
    "# ax.set_xlabel('Longitude')\n",
    "# ax.set_ylabel('Latitude')\n",
    "# ax=axs[1]\n",
    "# ax.plot(dateslist,platslat)\n",
    "# ax.set_xlabel('Time')\n",
    "# ax.set_ylabel('TP Latitude')\n",
    "\n",
    "# fig.autofmt_xdate()\n",
    "# fig,axs=plt.subplots(1,1,sharex=False,sharey=True)\n",
    "# fig.suptitle(\"Passage starts {}\".format(startdate.isoformat()))\n",
    "# ax=axs\n",
    "# ax.plot(platslat,szas)\n",
    "# ax.plot(platslat[0],szas[0],'ro')\n",
    "# ax.set_ylabel('SZA at TP')\n",
    "# ax.set_xlabel('TP Latitude')\n",
    "\n",
    "fig,axs=plt.subplots()\n",
    "fig.autofmt_xdate()\n",
    "fig.suptitle(\"Passage starts {}\".format(startdate.isoformat()))\n",
    "ax=axs\n",
    "ax.plot(dateslist,szas)\n",
    "ax.plot(dateslist,szan,'--')\n",
    "ax.set_ylabel('SZA at TP')\n",
    "ax.set_xlabel('Time')\n",
    "ax.set_xlim(dateslist[18],dateslist[12*5])"
   ]
  },
  {
   "cell_type": "code",
   "execution_count": 8,
   "id": "3671a7bb",
   "metadata": {},
   "outputs": [
    {
     "name": "stdout",
     "output_type": "stream",
     "text": [
      "2022-11-23 16:16:00\n",
      "2022-11-23 16:17:00\n",
      "2022-11-23 16:18:00\n",
      "2022-11-23 16:19:00\n",
      "2022-11-23 17:53:00\n",
      "2022-11-23 17:54:00\n",
      "2022-11-23 17:55:00\n",
      "2022-11-23 19:29:00\n",
      "2022-11-23 19:30:00\n",
      "2022-11-23 19:31:00\n",
      "2022-11-23 19:32:00\n"
     ]
    }
   ],
   "source": [
    "I = np.where(np.logical_and(np.abs(np.array(szas)-100)<1,np.array(szan)>100))[0]\n",
    "for i in I:\n",
    "    print(str(dateslist[i]))"
   ]
  },
  {
   "cell_type": "code",
   "execution_count": 9,
   "id": "ac54abac",
   "metadata": {},
   "outputs": [
    {
     "name": "stdout",
     "output_type": "stream",
     "text": [
      "2022-11-23 16:44:00\n",
      "2022-11-23 16:45:00\n",
      "2022-11-23 16:46:00\n",
      "2022-11-23 16:47:00\n",
      "2022-11-23 17:04:00\n",
      "2022-11-23 17:05:00\n",
      "2022-11-23 17:06:00\n",
      "2022-11-23 17:07:00\n",
      "2022-11-23 18:20:00\n",
      "2022-11-23 18:21:00\n",
      "2022-11-23 18:22:00\n",
      "2022-11-23 18:23:00\n",
      "2022-11-23 18:41:00\n",
      "2022-11-23 18:42:00\n",
      "2022-11-23 18:43:00\n",
      "2022-11-23 18:44:00\n",
      "2022-11-23 19:57:00\n",
      "2022-11-23 19:58:00\n",
      "2022-11-23 19:59:00\n",
      "2022-11-23 20:00:00\n"
     ]
    }
   ],
   "source": [
    "I = np.where(np.abs(np.array(szas)-80)<1)[0]\n",
    "for i in I:\n",
    "    print(str(dateslist[i]))"
   ]
  },
  {
   "cell_type": "code",
   "execution_count": null,
   "id": "49247954",
   "metadata": {},
   "outputs": [],
   "source": []
  }
 ],
 "metadata": {
  "kernelspec": {
   "display_name": "Python 3.8.13 ('MATS-orbitsimulator')",
   "language": "python",
   "name": "python3"
  },
  "language_info": {
   "codemirror_mode": {
    "name": "ipython",
    "version": 3
   },
   "file_extension": ".py",
   "mimetype": "text/x-python",
   "name": "python",
   "nbconvert_exporter": "python",
   "pygments_lexer": "ipython3",
   "version": "3.8.13"
  },
  "vscode": {
   "interpreter": {
    "hash": "dc2c875ee96fb5d562d0e198713347309e2812ba198b7b7672b0daa053079d6e"
   }
  }
 },
 "nbformat": 4,
 "nbformat_minor": 5
}
